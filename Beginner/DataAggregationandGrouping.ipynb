{
 "cells": [
  {
   "cell_type": "markdown",
   "metadata": {},
   "source": [
    "# Data Aggregation and Grouping:\n",
    "\n"
   ]
  },
  {
   "cell_type": "code",
   "execution_count": 3,
   "metadata": {},
   "outputs": [
    {
     "name": "stdout",
     "output_type": "stream",
     "text": [
      "   total_bill   tip     sex smoker  day    time  size\n",
      "0       16.99  1.01  Female     No  Sun  Dinner     2\n",
      "1       10.34  1.66    Male     No  Sun  Dinner     3\n",
      "2       21.01  3.50    Male     No  Sun  Dinner     3\n",
      "3       23.68  3.31    Male     No  Sun  Dinner     2\n",
      "4       24.59  3.61  Female     No  Sun  Dinner     4\n",
      "5       25.29  4.71    Male     No  Sun  Dinner     4\n",
      "6        8.77  2.00    Male     No  Sun  Dinner     2\n",
      "7       26.88  3.12    Male     No  Sun  Dinner     4\n",
      "8       15.04  1.96    Male     No  Sun  Dinner     2\n",
      "9       14.78  3.23    Male     No  Sun  Dinner     2\n"
     ]
    }
   ],
   "source": [
    "import pandas as pd\n",
    "dataset = pd.read_csv('tips.csv')\n",
    "print(dataset.head(10))"
   ]
  },
  {
   "cell_type": "markdown",
   "metadata": {},
   "source": [
    "* Group data by a categorical variable and calculate the mean, median, or other statistics for each group."
   ]
  },
  {
   "cell_type": "code",
   "execution_count": 5,
   "metadata": {},
   "outputs": [
    {
     "name": "stdout",
     "output_type": "stream",
     "text": [
      "Grouped Statistics by Sex:\n",
      "       total_bill            tip\n",
      "             mean median     sum\n",
      "sex                             \n",
      "Female  18.056897  16.40  246.51\n",
      "Male    20.744076  18.35  485.07\n"
     ]
    }
   ],
   "source": [
    "grouped_stats = dataset.groupby('sex').agg({'total_bill': ['mean', 'median'], 'tip': 'sum'})\n",
    "print(\"Grouped Statistics by Sex:\")\n",
    "print(grouped_stats)"
   ]
  },
  {
   "cell_type": "markdown",
   "metadata": {},
   "source": [
    "* Aggregate data on a time series dataset by daily, weekly, or monthly averages.\n"
   ]
  },
  {
   "cell_type": "code",
   "execution_count": 19,
   "metadata": {},
   "outputs": [
    {
     "name": "stdout",
     "output_type": "stream",
     "text": [
      "Daily Averages:            total_bill       tip     size\n",
      "day                                      \n",
      "1900-01-01   20.502418  3.075549  2.60989\n",
      "Weekly Averages:            total_bill       tip     size\n",
      "day                                      \n",
      "1900-01-07   20.502418  3.075549  2.60989\n",
      "Monthly Averages:            total_bill       tip     size\n",
      "day                                      \n",
      "1900-01-31   20.502418  3.075549  2.60989\n"
     ]
    }
   ],
   "source": [
    "import pprint\n",
    "numeric_cols = dataset.select_dtypes(include=['number'])\n",
    "\n",
    "# Resample data by daily averages\n",
    "daily_avg = numeric_cols.resample('D').mean()\n",
    "\n",
    "# Resample data by weekly averages\n",
    "weekly_avg = numeric_cols.resample('W').mean()\n",
    "\n",
    "# Resample data by monthly averages\n",
    "monthly_avg = numeric_cols.resample('ME').mean()\n",
    "\n",
    "print(f\"Daily Averages:{daily_avg}\")\n",
    "print(f\"Weekly Averages:{weekly_avg}\")\n",
    "print(f\"Monthly Averages:{monthly_avg}\")\n"
   ]
  }
 ],
 "metadata": {
  "kernelspec": {
   "display_name": "python12",
   "language": "python",
   "name": "python3"
  },
  "language_info": {
   "codemirror_mode": {
    "name": "ipython",
    "version": 3
   },
   "file_extension": ".py",
   "mimetype": "text/x-python",
   "name": "python",
   "nbconvert_exporter": "python",
   "pygments_lexer": "ipython3",
   "version": "3.12.3"
  }
 },
 "nbformat": 4,
 "nbformat_minor": 2
}
