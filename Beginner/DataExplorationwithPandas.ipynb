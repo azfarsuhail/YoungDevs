{
 "cells": [
  {
   "cell_type": "markdown",
   "metadata": {},
   "source": [
    "# Data Exploration with Pandas"
   ]
  },
  {
   "cell_type": "markdown",
   "metadata": {},
   "source": [
    "* Load a dataset using Pandas."
   ]
  },
  {
   "cell_type": "code",
   "execution_count": 2,
   "metadata": {},
   "outputs": [
    {
     "name": "stdout",
     "output_type": "stream",
     "text": [
      "   VIN (1-10)     County       City State  Postal Code  Model Year   Make  \\\n",
      "0  5YJYGDEE1L       King    Seattle    WA      98122.0        2020  TESLA   \n",
      "1  7SAYGDEE9P  Snohomish    Bothell    WA      98021.0        2023  TESLA   \n",
      "2  5YJSA1E4XK       King    Seattle    WA      98109.0        2019  TESLA   \n",
      "3  5YJSA1E27G       King   Issaquah    WA      98027.0        2016  TESLA   \n",
      "4  5YJYGDEE5M     Kitsap  Suquamish    WA      98392.0        2021  TESLA   \n",
      "\n",
      "     Model           Electric Vehicle Type  \\\n",
      "0  MODEL Y  Battery Electric Vehicle (BEV)   \n",
      "1  MODEL Y  Battery Electric Vehicle (BEV)   \n",
      "2  MODEL S  Battery Electric Vehicle (BEV)   \n",
      "3  MODEL S  Battery Electric Vehicle (BEV)   \n",
      "4  MODEL Y  Battery Electric Vehicle (BEV)   \n",
      "\n",
      "   Clean Alternative Fuel Vehicle (CAFV) Eligibility  Electric Range  \\\n",
      "0            Clean Alternative Fuel Vehicle Eligible             291   \n",
      "1  Eligibility unknown as battery range has not b...               0   \n",
      "2            Clean Alternative Fuel Vehicle Eligible             270   \n",
      "3            Clean Alternative Fuel Vehicle Eligible             210   \n",
      "4  Eligibility unknown as battery range has not b...               0   \n",
      "\n",
      "   Base MSRP  Legislative District  DOL Vehicle ID  \\\n",
      "0          0                  37.0       125701579   \n",
      "1          0                   1.0       244285107   \n",
      "2          0                  36.0       156773144   \n",
      "3          0                   5.0       165103011   \n",
      "4          0                  23.0       205138552   \n",
      "\n",
      "                Vehicle Location  \\\n",
      "0   POINT (-122.30839 47.610365)   \n",
      "1  POINT (-122.179458 47.802589)   \n",
      "2   POINT (-122.34848 47.632405)   \n",
      "3   POINT (-122.03646 47.534065)   \n",
      "4   POINT (-122.55717 47.733415)   \n",
      "\n",
      "                                Electric Utility  2020 Census Tract  \n",
      "0   CITY OF SEATTLE - (WA)|CITY OF TACOMA - (WA)       5.303301e+10  \n",
      "1                         PUGET SOUND ENERGY INC       5.306105e+10  \n",
      "2   CITY OF SEATTLE - (WA)|CITY OF TACOMA - (WA)       5.303301e+10  \n",
      "3  PUGET SOUND ENERGY INC||CITY OF TACOMA - (WA)       5.303303e+10  \n",
      "4                         PUGET SOUND ENERGY INC       5.303594e+10  \n"
     ]
    }
   ],
   "source": [
    "import pprint\n",
    "import pandas as pd\n",
    "dataset = pd.read_csv(\"Electric_Vehicle_Population_Data.csv\")\n",
    "pprint.pprint(dataset.head())"
   ]
  },
  {
   "cell_type": "markdown",
   "metadata": {},
   "source": [
    "* Display basic statistics (mean, median, etc.) for numerical columns."
   ]
  },
  {
   "cell_type": "code",
   "execution_count": 3,
   "metadata": {},
   "outputs": [
    {
     "name": "stdout",
     "output_type": "stream",
     "text": [
      "         Postal Code     Model Year  Electric Range      Base MSRP  \\\n",
      "count  177861.000000  177866.000000   177866.000000  177866.000000   \n",
      "mean    98172.453506    2020.515512       58.842162    1073.109363   \n",
      "std      2442.450668       2.989384       91.981298    8358.624956   \n",
      "min      1545.000000    1997.000000        0.000000       0.000000   \n",
      "25%     98052.000000    2019.000000        0.000000       0.000000   \n",
      "50%     98122.000000    2022.000000        0.000000       0.000000   \n",
      "75%     98370.000000    2023.000000       75.000000       0.000000   \n",
      "max     99577.000000    2024.000000      337.000000  845000.000000   \n",
      "\n",
      "       Legislative District  DOL Vehicle ID  2020 Census Tract  \n",
      "count         177477.000000    1.778660e+05       1.778610e+05  \n",
      "mean              29.127481    2.202313e+08       5.297672e+10  \n",
      "std               14.892169    7.584987e+07       1.578047e+09  \n",
      "min                1.000000    4.385000e+03       1.001020e+09  \n",
      "25%               18.000000    1.814743e+08       5.303301e+10  \n",
      "50%               33.000000    2.282522e+08       5.303303e+10  \n",
      "75%               42.000000    2.548445e+08       5.305307e+10  \n",
      "max               49.000000    4.792548e+08       5.603300e+10  \n"
     ]
    }
   ],
   "source": [
    "pprint.pprint(dataset.describe())"
   ]
  },
  {
   "cell_type": "markdown",
   "metadata": {},
   "source": [
    "* Count unique values in a categorical column."
   ]
  },
  {
   "cell_type": "code",
   "execution_count": 9,
   "metadata": {},
   "outputs": [
    {
     "name": "stdout",
     "output_type": "stream",
     "text": [
      "('How many cars are populated in the data according to model year? Model Year\\n'\n",
      " '2023    57587\\n'\n",
      " '2022    27776\\n'\n",
      " '2021    19132\\n'\n",
      " '2018    14323\\n'\n",
      " '2020    11768\\n'\n",
      " '2019    10940\\n'\n",
      " '2017     8562\\n'\n",
      " '2024     7080\\n'\n",
      " '2016     5483\\n'\n",
      " '2015     4844\\n'\n",
      " '2013     4409\\n'\n",
      " '2014     3509\\n'\n",
      " '2012     1618\\n'\n",
      " '2011      775\\n'\n",
      " '2010       23\\n'\n",
      " '2008       20\\n'\n",
      " '2000        7\\n'\n",
      " '1999        5\\n'\n",
      " '2002        2\\n'\n",
      " '1998        1\\n'\n",
      " '1997        1\\n'\n",
      " '2003        1\\n'\n",
      " 'Name: count, dtype: int64')\n"
     ]
    }
   ],
   "source": [
    "pprint.pprint(f\"How many cars are populated in the data according to model year?\" + dataset['Model Year'].value_counts()})"
   ]
  }
 ],
 "metadata": {
  "kernelspec": {
   "display_name": "python12",
   "language": "python",
   "name": "python3"
  },
  "language_info": {
   "codemirror_mode": {
    "name": "ipython",
    "version": 3
   },
   "file_extension": ".py",
   "mimetype": "text/x-python",
   "name": "python",
   "nbconvert_exporter": "python",
   "pygments_lexer": "ipython3",
   "version": "3.12.3"
  }
 },
 "nbformat": 4,
 "nbformat_minor": 2
}
