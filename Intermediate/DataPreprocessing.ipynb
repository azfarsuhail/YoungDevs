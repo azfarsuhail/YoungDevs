{
 "cells": [
  {
   "cell_type": "markdown",
   "metadata": {},
   "source": [
    "# Data Preprocessing:"
   ]
  },
  {
   "cell_type": "code",
   "execution_count": 2,
   "metadata": {},
   "outputs": [],
   "source": [
    "import pandas as pd\n",
    "air_quality = pd.read_csv('Westminster - Duke Street (Grosvenor).csv')\n"
   ]
  },
  {
   "cell_type": "code",
   "execution_count": 7,
   "metadata": {},
   "outputs": [
    {
     "name": "stdout",
     "output_type": "stream",
     "text": [
      "      value\n",
      "0  0.217362\n",
      "1  0.228466\n",
      "2  0.096568\n",
      "3  0.137618\n",
      "4  0.081090\n"
     ]
    }
   ],
   "source": [
    "import numpy as np\n",
    "\n",
    "air_quality.columns = air_quality.columns.str.lower().str.replace(' ', '_')\n",
    "\n",
    "air_quality_encoded = pd.get_dummies(air_quality, columns=['site'])\n",
    "\n",
    "from sklearn.preprocessing import MinMaxScaler\n",
    "scaler = MinMaxScaler()\n",
    "\n",
    "numeric_columns = air_quality_encoded.select_dtypes(include=np.number).columns\n",
    "scaler = MinMaxScaler()\n",
    "air_quality_scaled = pd.DataFrame(scaler.fit_transform(air_quality_encoded[numeric_columns]), columns=numeric_columns)\n",
    "\n",
    "print(air_quality_scaled.head())\n",
    "\n"
   ]
  }
 ],
 "metadata": {
  "kernelspec": {
   "display_name": "python12",
   "language": "python",
   "name": "python3"
  },
  "language_info": {
   "codemirror_mode": {
    "name": "ipython",
    "version": 3
   },
   "file_extension": ".py",
   "mimetype": "text/x-python",
   "name": "python",
   "nbconvert_exporter": "python",
   "pygments_lexer": "ipython3",
   "version": "3.12.3"
  }
 },
 "nbformat": 4,
 "nbformat_minor": 2
}
